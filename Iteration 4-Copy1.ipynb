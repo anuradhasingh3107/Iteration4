{
 "cells": [
  {
   "cell_type": "code",
   "execution_count": 2,
   "metadata": {},
   "outputs": [],
   "source": [
    "# Including Libraries\n",
    "import findspark\n",
    "findspark.init('/home/ubuntu/spark-2.1.1-bin-hadoop2.7')\n",
    "import pyspark\n",
    "from pyspark.sql import SparkSession\n",
    "spark = SparkSession.builder.appName('Iteration 4').getOrCreate()"
   ]
  },
  {
   "cell_type": "code",
   "execution_count": 3,
   "metadata": {},
   "outputs": [],
   "source": [
    "#Loading the csv file\n",
    "df = spark.read.csv('/home/ubuntu/Iteration4/Blood_transfusion.csv', inferSchema=True, header=True)"
   ]
  },
  {
   "cell_type": "code",
   "execution_count": 4,
   "metadata": {},
   "outputs": [
    {
     "data": {
      "text/plain": [
       "['Student_ID', 'Recency', 'Frequency', 'Monetary', 'Time', 'Decision']"
      ]
     },
     "execution_count": 4,
     "metadata": {},
     "output_type": "execute_result"
    }
   ],
   "source": [
    "df.columns"
   ]
  },
  {
   "cell_type": "code",
   "execution_count": 5,
   "metadata": {},
   "outputs": [
    {
     "data": {
      "text/plain": [
       "DataFrame[summary: string, Student_ID: string, Recency: string, Frequency: string, Monetary: string, Time: string, Decision: string]"
      ]
     },
     "execution_count": 5,
     "metadata": {},
     "output_type": "execute_result"
    }
   ],
   "source": [
    "df.describe()"
   ]
  },
  {
   "cell_type": "code",
   "execution_count": 6,
   "metadata": {
    "scrolled": true
   },
   "outputs": [
    {
     "name": "stdout",
     "output_type": "stream",
     "text": [
      "root\n",
      " |-- Student_ID: integer (nullable = true)\n",
      " |-- Recency: integer (nullable = true)\n",
      " |-- Frequency: integer (nullable = true)\n",
      " |-- Monetary: integer (nullable = true)\n",
      " |-- Time: integer (nullable = true)\n",
      " |-- Decision: integer (nullable = true)\n",
      "\n"
     ]
    }
   ],
   "source": [
    "df.printSchema()"
   ]
  },
  {
   "cell_type": "code",
   "execution_count": 7,
   "metadata": {},
   "outputs": [
    {
     "name": "stdout",
     "output_type": "stream",
     "text": [
      "+-------+------------------+-----------------+-----------------+------------------+------------------+-------------------+\n",
      "|summary|        Student_ID|          Recency|        Frequency|          Monetary|              Time|           Decision|\n",
      "+-------+------------------+-----------------+-----------------+------------------+------------------+-------------------+\n",
      "|  count|               748|              748|              748|               743|               748|                748|\n",
      "|   mean|            1374.5|9.506684491978609|5.514705882352941|1384.5895020188425|34.282085561497325|0.23796791443850268|\n",
      "| stddev|216.07329003527184|8.095395635299218|5.839307123090025| 1462.602566172466|24.376714368614188|0.42612432780145176|\n",
      "|    min|              1001|                0|                1|               250|                 2|                  0|\n",
      "|    max|              1748|               74|               50|             12500|                98|                  1|\n",
      "+-------+------------------+-----------------+-----------------+------------------+------------------+-------------------+\n",
      "\n"
     ]
    }
   ],
   "source": [
    "df.describe().show()"
   ]
  },
  {
   "cell_type": "code",
   "execution_count": 8,
   "metadata": {
    "scrolled": false
   },
   "outputs": [
    {
     "name": "stdout",
     "output_type": "stream",
     "text": [
      "+----------+-------+---------+--------+----+--------+\n",
      "|Student_ID|Recency|Frequency|Monetary|Time|Decision|\n",
      "+----------+-------+---------+--------+----+--------+\n",
      "|      1514|      2|       50|   12500|  98|       1|\n",
      "|      1239|      0|       13|    3250|  28|       1|\n",
      "|      1462|      1|       16|    4000|  35|       1|\n",
      "|      1506|      2|       20|    5000|  45|       1|\n",
      "|      1278|      1|       24|    6000|  77|       0|\n",
      "|      1352|      4|        4|    1000|   4|       0|\n",
      "|      1503|      2|        7|    1750|  14|       1|\n",
      "|      1185|      1|       12|    3000|  35|       0|\n",
      "|      1171|      2|        9|    2250|  22|       1|\n",
      "|      1240|      5|       46|   11500|  98|       1|\n",
      "|      1417|      4|       23|    5750|  58|       0|\n",
      "|      1612|      0|        3|     750|   4|       0|\n",
      "|      1351|      2|       10|    2500|  28|       1|\n",
      "|      1113|      1|       13|    3250|  47|       0|\n",
      "|      1265|      2|        6|    1500|  15|       1|\n",
      "|      1744|      2|        5|    1250|  11|       1|\n",
      "|      1738|      2|       14|    3500|  48|       1|\n",
      "|      1090|      2|       15|    3750|  49|       1|\n",
      "|      1120|      2|        6|    1500|  15|       1|\n",
      "|      1468|      2|        3|     750|   4|       1|\n",
      "+----------+-------+---------+--------+----+--------+\n",
      "only showing top 20 rows\n",
      "\n"
     ]
    }
   ],
   "source": [
    "#Displaying first 20 records\n",
    "df.show()"
   ]
  },
  {
   "cell_type": "code",
   "execution_count": 9,
   "metadata": {},
   "outputs": [],
   "source": [
    "#Loading second data set\n",
    "df2 = spark.read.csv('/home/ubuntu/Iteration4/Blood Group Details.csv', inferSchema=True, header=True)"
   ]
  },
  {
   "cell_type": "code",
   "execution_count": 10,
   "metadata": {},
   "outputs": [
    {
     "data": {
      "text/plain": [
       "['Student_ID', 'Blood Group']"
      ]
     },
     "execution_count": 10,
     "metadata": {},
     "output_type": "execute_result"
    }
   ],
   "source": [
    "df2.columns"
   ]
  },
  {
   "cell_type": "code",
   "execution_count": 11,
   "metadata": {},
   "outputs": [
    {
     "data": {
      "text/plain": [
       "DataFrame[summary: string, Student_ID: string, Blood Group: string]"
      ]
     },
     "execution_count": 11,
     "metadata": {},
     "output_type": "execute_result"
    }
   ],
   "source": [
    "df2.describe()"
   ]
  },
  {
   "cell_type": "code",
   "execution_count": 12,
   "metadata": {},
   "outputs": [
    {
     "name": "stdout",
     "output_type": "stream",
     "text": [
      "root\n",
      " |-- Student_ID: integer (nullable = true)\n",
      " |-- Blood Group: string (nullable = true)\n",
      "\n"
     ]
    }
   ],
   "source": [
    "df2.printSchema()"
   ]
  },
  {
   "cell_type": "code",
   "execution_count": 13,
   "metadata": {},
   "outputs": [
    {
     "name": "stdout",
     "output_type": "stream",
     "text": [
      "+-------+------------------+-----------+\n",
      "|summary|        Student_ID|Blood Group|\n",
      "+-------+------------------+-----------+\n",
      "|  count|               748|        748|\n",
      "|   mean|            1374.5|       null|\n",
      "| stddev|216.07329003527184|       null|\n",
      "|    min|              1001|         A+|\n",
      "|    max|              1748|         O+|\n",
      "+-------+------------------+-----------+\n",
      "\n"
     ]
    }
   ],
   "source": [
    "df2.describe().show()"
   ]
  },
  {
   "cell_type": "code",
   "execution_count": 14,
   "metadata": {},
   "outputs": [
    {
     "name": "stdout",
     "output_type": "stream",
     "text": [
      "+----------+-----------+\n",
      "|Student_ID|Blood Group|\n",
      "+----------+-----------+\n",
      "|      1514|         A+|\n",
      "|      1239|         B+|\n",
      "|      1462|         B+|\n",
      "|      1506|        AB-|\n",
      "|      1278|         A+|\n",
      "|      1352|         A+|\n",
      "|      1503|         B+|\n",
      "|      1185|         B+|\n",
      "|      1171|         B+|\n",
      "|      1240|         B+|\n",
      "|      1417|        AB-|\n",
      "|      1612|         B+|\n",
      "|      1351|         B+|\n",
      "|      1113|         B+|\n",
      "|      1265|         A+|\n",
      "|      1744|        AB-|\n",
      "|      1738|         B+|\n",
      "|      1090|         B+|\n",
      "|      1120|        AB-|\n",
      "|      1468|         B+|\n",
      "+----------+-----------+\n",
      "only showing top 20 rows\n",
      "\n"
     ]
    }
   ],
   "source": [
    "df2.show()"
   ]
  },
  {
   "cell_type": "code",
   "execution_count": 15,
   "metadata": {
    "scrolled": true
   },
   "outputs": [
    {
     "data": {
      "text/plain": [
       "0"
      ]
     },
     "execution_count": 15,
     "metadata": {},
     "output_type": "execute_result"
    }
   ],
   "source": [
    "df.filter(df.Student_ID.isNull()).count()"
   ]
  },
  {
   "cell_type": "code",
   "execution_count": 16,
   "metadata": {},
   "outputs": [
    {
     "data": {
      "text/plain": [
       "0"
      ]
     },
     "execution_count": 16,
     "metadata": {},
     "output_type": "execute_result"
    }
   ],
   "source": [
    "df.filter(df.Student_ID.isNull()).count()"
   ]
  },
  {
   "cell_type": "code",
   "execution_count": 17,
   "metadata": {},
   "outputs": [
    {
     "data": {
      "text/plain": [
       "0"
      ]
     },
     "execution_count": 17,
     "metadata": {},
     "output_type": "execute_result"
    }
   ],
   "source": [
    "df.filter(df.Recency.isNull()).count()"
   ]
  },
  {
   "cell_type": "code",
   "execution_count": 18,
   "metadata": {},
   "outputs": [
    {
     "data": {
      "text/plain": [
       "0"
      ]
     },
     "execution_count": 18,
     "metadata": {},
     "output_type": "execute_result"
    }
   ],
   "source": [
    "df.filter(df.Frequency.isNull()).count()"
   ]
  },
  {
   "cell_type": "code",
   "execution_count": 19,
   "metadata": {},
   "outputs": [
    {
     "data": {
      "text/plain": [
       "5"
      ]
     },
     "execution_count": 19,
     "metadata": {},
     "output_type": "execute_result"
    }
   ],
   "source": [
    "df.filter(df.Monetary.isNull()).count()"
   ]
  },
  {
   "cell_type": "code",
   "execution_count": 20,
   "metadata": {},
   "outputs": [
    {
     "data": {
      "text/plain": [
       "0"
      ]
     },
     "execution_count": 20,
     "metadata": {},
     "output_type": "execute_result"
    }
   ],
   "source": [
    "df.filter(df.Time.isNull()).count()"
   ]
  },
  {
   "cell_type": "code",
   "execution_count": 21,
   "metadata": {},
   "outputs": [],
   "source": [
    "#Merging the datasets\n",
    "inner_join = df.join(df2, ['Student_ID'] )"
   ]
  },
  {
   "cell_type": "code",
   "execution_count": 22,
   "metadata": {
    "scrolled": false
   },
   "outputs": [
    {
     "data": {
      "text/plain": [
       "['Student_ID',\n",
       " 'Recency',\n",
       " 'Frequency',\n",
       " 'Monetary',\n",
       " 'Time',\n",
       " 'Decision',\n",
       " 'Blood Group']"
      ]
     },
     "execution_count": 22,
     "metadata": {},
     "output_type": "execute_result"
    }
   ],
   "source": [
    "inner_join.columns"
   ]
  },
  {
   "cell_type": "code",
   "execution_count": 24,
   "metadata": {
    "scrolled": true
   },
   "outputs": [
    {
     "data": {
      "image/png": "[encoded data removed]",
      "text/plain": [
       "<Figure size 576x576 with 36 Axes>"
      ]
     },
     "metadata": {},
     "output_type": "display_data"
    }
   ],
   "source": [
    "#Feature selection\n",
    "import pandas as pd\n",
    "numeric_features = [t[0] for t in df.dtypes if t[1] == 'int']\n",
    "numeric_data = df.select(numeric_features).toPandas()\n",
    "axs = pd.plotting.scatter_matrix(numeric_data, figsize=(8, 8));\n",
    "n = len(numeric_data.columns)\n",
    "for i in range(n):\n",
    "    v = axs[i, 0]\n",
    "    v.yaxis.label.set_rotation(0)\n",
    "    v.yaxis.label.set_ha('right')\n",
    "    v.set_yticks(())\n",
    "    h = axs[n-1, i]\n",
    "    h.xaxis.label.set_rotation(90)\n",
    "    h.set_xticks(())"
   ]
  },
  {
   "cell_type": "code",
   "execution_count": 25,
   "metadata": {},
   "outputs": [
    {
     "name": "stdout",
     "output_type": "stream",
     "text": [
      "2.1.1\n"
     ]
    }
   ],
   "source": [
    "#Feature Logarithmics Scaling \n",
    "# importing some libraries\n",
    "\n",
    "from pyspark.sql import functions as F\n",
    "from pyspark.sql import SQLContext\n",
    "sc = spark.sparkContext\n",
    "from pyspark.ml.feature import MinMaxScaler\n",
    "from pyspark.ml.feature import VectorAssembler\n",
    "# checking if spark context is already created\n",
    "print(sc.version)"
   ]
  },
  {
   "cell_type": "code",
   "execution_count": 26,
   "metadata": {},
   "outputs": [
    {
     "name": "stdout",
     "output_type": "stream",
     "text": [
      "Student_ID done\n",
      "Recency done\n",
      "Frequency done\n",
      "Monetary done\n",
      "Time done\n",
      "Decision done\n"
     ]
    }
   ],
   "source": [
    "# empty dictionary d\n",
    "d = {}\n",
    "# Fill in the entries one by one\n",
    "for col in df.columns[0:6]:\n",
    "      d[col] = df.approxQuantile(col,[0.01,0.99],0.25)\n",
    "      print(col+\" done\")"
   ]
  },
  {
   "cell_type": "code",
   "execution_count": 27,
   "metadata": {},
   "outputs": [
    {
     "name": "stdout",
     "output_type": "stream",
     "text": [
      "Student_ID done\n",
      "Recency done\n",
      "Frequency done\n",
      "Monetary done\n",
      "Time done\n",
      "Decision done\n"
     ]
    }
   ],
   "source": [
    "# looping through the columns, doing log(x+1) transformations\n",
    "for col in df.columns:\n",
    "    df_new = df.withColumn(col, \\\n",
    "    F.log(F.when(df[col] < d[col][0],d[col][0])\\\n",
    "    .when(df[col] > d[col][1], d[col][1])\\\n",
    "    .otherwise(df[col] ) +1).alias(col))\n",
    "    print(col+\" done\")"
   ]
  },
  {
   "cell_type": "code",
   "execution_count": 33,
   "metadata": {},
   "outputs": [],
   "source": [
    "my_cols = inner_join.select(['Recency',\n",
    " 'Frequency',\n",
    " 'Monetary',\n",
    " 'Time',\n",
    " 'Decision',\n",
    "'Blood Group'\n",
    " ])"
   ]
  },
  {
   "cell_type": "code",
   "execution_count": 28,
   "metadata": {
    "scrolled": true
   },
   "outputs": [
    {
     "data": {
      "text/plain": [
       "Row(Student_ID=1514, Recency=2, Frequency=50, Monetary=12500, Time=98, Decision=1)"
      ]
     },
     "execution_count": 28,
     "metadata": {},
     "output_type": "execute_result"
    }
   ],
   "source": [
    "df.head()"
   ]
  },
  {
   "cell_type": "code",
   "execution_count": 29,
   "metadata": {},
   "outputs": [
    {
     "data": {
      "text/plain": [
       "Row(Student_ID=1514, Recency=2, Frequency=50, Monetary=12500, Time=98, Decision=0.6931471805599453)"
      ]
     },
     "execution_count": 29,
     "metadata": {},
     "output_type": "execute_result"
    }
   ],
   "source": [
    "df_new.head()"
   ]
  },
  {
   "cell_type": "code",
   "execution_count": 30,
   "metadata": {},
   "outputs": [
    {
     "name": "stdout",
     "output_type": "stream",
     "text": [
      "+----------+-------+---------+--------+----+------------------+\n",
      "|Student_ID|Recency|Frequency|Monetary|Time|          Decision|\n",
      "+----------+-------+---------+--------+----+------------------+\n",
      "|      1514|      2|       50|   12500|  98|0.6931471805599453|\n",
      "|      1239|      0|       13|    3250|  28|0.6931471805599453|\n",
      "|      1462|      1|       16|    4000|  35|0.6931471805599453|\n",
      "|      1506|      2|       20|    5000|  45|0.6931471805599453|\n",
      "|      1278|      1|       24|    6000|  77|               0.0|\n",
      "|      1352|      4|        4|    1000|   4|               0.0|\n",
      "|      1503|      2|        7|    1750|  14|0.6931471805599453|\n",
      "|      1185|      1|       12|    3000|  35|               0.0|\n",
      "|      1171|      2|        9|    2250|  22|0.6931471805599453|\n",
      "|      1240|      5|       46|   11500|  98|0.6931471805599453|\n",
      "|      1417|      4|       23|    5750|  58|               0.0|\n",
      "|      1612|      0|        3|     750|   4|               0.0|\n",
      "|      1351|      2|       10|    2500|  28|0.6931471805599453|\n",
      "|      1113|      1|       13|    3250|  47|               0.0|\n",
      "|      1265|      2|        6|    1500|  15|0.6931471805599453|\n",
      "|      1744|      2|        5|    1250|  11|0.6931471805599453|\n",
      "|      1738|      2|       14|    3500|  48|0.6931471805599453|\n",
      "|      1090|      2|       15|    3750|  49|0.6931471805599453|\n",
      "|      1120|      2|        6|    1500|  15|0.6931471805599453|\n",
      "|      1468|      2|        3|     750|   4|0.6931471805599453|\n",
      "+----------+-------+---------+--------+----+------------------+\n",
      "only showing top 20 rows\n",
      "\n"
     ]
    }
   ],
   "source": [
    "df_new.show()"
   ]
  },
  {
   "cell_type": "code",
   "execution_count": 34,
   "metadata": {
    "scrolled": false
   },
   "outputs": [],
   "source": [
    "#Removing null values from final data\n",
    "my_final_data = my_cols.na.drop()"
   ]
  },
  {
   "cell_type": "code",
   "execution_count": 35,
   "metadata": {},
   "outputs": [],
   "source": [
    "from pyspark.ml.feature import (VectorAssembler,VectorIndexer,\n",
    "                                OneHotEncoder,StringIndexer)\n",
    "\n",
    "# A number will be assigned to every category in the Blood Group Column column.\n",
    "BG_indexer = StringIndexer(inputCol='Blood Group',outputCol='Blood Group_Index')\n",
    "\n",
    "# Now we can one hot encode these numbers. This converts the various outputs into a single vector.\n",
    "# This makes it easier to process when we have multiple classes.\n",
    "BG_encoder = OneHotEncoder(inputCol='Blood Group_Index',outputCol='Blood Group_Vec')\n"
   ]
  },
  {
   "cell_type": "code",
   "execution_count": 36,
   "metadata": {},
   "outputs": [],
   "source": [
    "# Now we can assemble all of this as one vector in the features column. \n",
    "assembler = VectorAssembler(inputCols=['Recency',\n",
    " 'Frequency',\n",
    "  'Time',\n",
    "'Blood Group_Vec'],outputCol='features')\n"
   ]
  },
  {
   "cell_type": "code",
   "execution_count": 37,
   "metadata": {},
   "outputs": [],
   "source": [
    "from pyspark.ml.classification import LogisticRegression\n",
    "\n",
    "from pyspark.ml import Pipeline\n"
   ]
  },
  {
   "cell_type": "code",
   "execution_count": 38,
   "metadata": {},
   "outputs": [],
   "source": [
    "# Note that Decision is a categorial variable but didn't require any transformation.\n",
    "# That's because it's already in the format of 1's and 0's. \n",
    "log_reg_DF = LogisticRegression(featuresCol='features',labelCol='Decision')\n",
    "\n",
    "# Lists everything we want to do. Index data, encode data, assemble data and then pass in the actual model.\n",
    "pipeline = Pipeline(stages=[BG_indexer,\n",
    "                           BG_encoder,\n",
    "                           assembler,log_reg_DF])\n"
   ]
  },
  {
   "cell_type": "code",
   "execution_count": 39,
   "metadata": {},
   "outputs": [],
   "source": [
    "# Train/test split. \n",
    "train_DF, test_DF = my_final_data.randomSplit([0.7,.3])\n"
   ]
  },
  {
   "cell_type": "code",
   "execution_count": 40,
   "metadata": {},
   "outputs": [
    {
     "data": {
      "text/plain": [
       "531"
      ]
     },
     "execution_count": 40,
     "metadata": {},
     "output_type": "execute_result"
    }
   ],
   "source": [
    "train_DF.count()"
   ]
  },
  {
   "cell_type": "code",
   "execution_count": 41,
   "metadata": {},
   "outputs": [
    {
     "data": {
      "text/plain": [
       "212"
      ]
     },
     "execution_count": 41,
     "metadata": {},
     "output_type": "execute_result"
    }
   ],
   "source": [
    "test_DF.count()"
   ]
  },
  {
   "cell_type": "code",
   "execution_count": 42,
   "metadata": {},
   "outputs": [],
   "source": [
    "# Calling pipeline as a machine learning object.\n",
    "fit_model = pipeline.fit(train_DF)\n"
   ]
  },
  {
   "cell_type": "code",
   "execution_count": 43,
   "metadata": {},
   "outputs": [],
   "source": [
    "results = fit_model.transform(test_DF)\n"
   ]
  },
  {
   "cell_type": "code",
   "execution_count": 44,
   "metadata": {},
   "outputs": [
    {
     "name": "stdout",
     "output_type": "stream",
     "text": [
      "+--------------------+----------+\n",
      "|         probability|prediction|\n",
      "+--------------------+----------+\n",
      "|[0.56740521372468...|       0.0|\n",
      "|[0.54368685648800...|       0.0|\n",
      "|[0.57995791148746...|       0.0|\n",
      "|[0.57995791148746...|       0.0|\n",
      "|[0.65000190669698...|       0.0|\n",
      "|[0.65000190669698...|       0.0|\n",
      "|[0.65000190669698...|       0.0|\n",
      "|[0.65000190669698...|       0.0|\n",
      "|[0.65000190669698...|       0.0|\n",
      "|[0.65000190669698...|       0.0|\n",
      "|[0.65000190669698...|       0.0|\n",
      "|[0.65000190669698...|       0.0|\n",
      "|[0.65000190669698...|       0.0|\n",
      "|[0.60494039819464...|       0.0|\n",
      "|[0.60494039819464...|       0.0|\n",
      "|[0.75035537903252...|       0.0|\n",
      "|[0.79754392887060...|       0.0|\n",
      "|[0.66819742017725...|       0.0|\n",
      "|[0.70214440472632...|       0.0|\n",
      "|[0.74961094152314...|       0.0|\n",
      "+--------------------+----------+\n",
      "only showing top 20 rows\n",
      "\n"
     ]
    }
   ],
   "source": [
    "results.select(\"probability\", \"prediction\").show()"
   ]
  },
  {
   "cell_type": "code",
   "execution_count": 45,
   "metadata": {},
   "outputs": [
    {
     "name": "stdout",
     "output_type": "stream",
     "text": [
      "+--------+----------+\n",
      "|Decision|prediction|\n",
      "+--------+----------+\n",
      "|       0|       0.0|\n",
      "|       1|       0.0|\n",
      "|       0|       0.0|\n",
      "|       0|       0.0|\n",
      "|       0|       0.0|\n",
      "|       0|       0.0|\n",
      "|       0|       0.0|\n",
      "|       0|       0.0|\n",
      "|       0|       0.0|\n",
      "|       0|       0.0|\n",
      "|       0|       0.0|\n",
      "|       1|       0.0|\n",
      "|       1|       0.0|\n",
      "|       0|       0.0|\n",
      "|       0|       0.0|\n",
      "|       0|       0.0|\n",
      "|       0|       0.0|\n",
      "|       1|       0.0|\n",
      "|       0|       0.0|\n",
      "|       1|       0.0|\n",
      "+--------+----------+\n",
      "only showing top 20 rows\n",
      "\n"
     ]
    }
   ],
   "source": [
    "# Evaluate the model using the binary classifer.\n",
    "from pyspark.ml.evaluation import BinaryClassificationEvaluator\n",
    "\n",
    "my_eval = BinaryClassificationEvaluator(rawPredictionCol='prediction',\n",
    "                                       labelCol='Decision')\n",
    "\n",
    "# If we select the actual and predicted results, we can see that some predictions were correct while others were wrong.\n",
    "results.select('Decision','prediction').show()\n"
   ]
  },
  {
   "cell_type": "code",
   "execution_count": 46,
   "metadata": {},
   "outputs": [
    {
     "data": {
      "text/plain": [
       "0.504079892826696"
      ]
     },
     "execution_count": 46,
     "metadata": {},
     "output_type": "execute_result"
    }
   ],
   "source": [
    "# We can then evaluate using AUC (area under the curve). AUC is linked to ROC.\n",
    "AUC = my_eval.evaluate(results)\n",
    "\n",
    "AUC\n"
   ]
  },
  {
   "cell_type": "code",
   "execution_count": 47,
   "metadata": {},
   "outputs": [
    {
     "name": "stdout",
     "output_type": "stream",
     "text": [
      "Correct: 212\n",
      "Total Correct: 158\n"
     ]
    }
   ],
   "source": [
    "# Here we're seeing how much variance our model could account for.\n",
    "totalResults = results.select('Decision','prediction')\n",
    "\n",
    "correctResults = totalResults.filter(totalResults['Decision'] == totalResults['prediction'])\n",
    "\n",
    "countTR = totalResults.count()\n",
    "print(\"Correct: \" + str(countTR))\n",
    "\n",
    "countTC = correctResults.count()\n",
    "print(\"Total Correct: \" + str(countTC)) \n"
   ]
  },
  {
   "cell_type": "code",
   "execution_count": null,
   "metadata": {},
   "outputs": [],
   "source": []
  }
 ],
 "metadata": {
  "kernelspec": {
   "display_name": "Python 3",
   "language": "python",
   "name": "python3"
  },
  "language_info": {
   "codemirror_mode": {
    "name": "ipython",
    "version": 3
   },
   "file_extension": ".py",
   "mimetype": "text/x-python",
   "name": "python",
   "nbconvert_exporter": "python",
   "pygments_lexer": "ipython3",
   "version": "3.5.2"
  }
 },
 "nbformat": 4,
 "nbformat_minor": 2
}
